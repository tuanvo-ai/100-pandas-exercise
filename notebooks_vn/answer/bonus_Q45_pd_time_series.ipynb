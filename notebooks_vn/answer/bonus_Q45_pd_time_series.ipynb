{
 "cells": [
  {
   "cell_type": "markdown",
   "id": "89064845-c96d-4cbe-b811-587ec6f6aaff",
   "metadata": {},
   "source": [
    "# Giải thích pd.to_datetime và điểm cần chú ý"
   ]
  },
  {
   "cell_type": "markdown",
   "id": "e7e85547-08f3-42fe-bdd6-a10e0e09af39",
   "metadata": {},
   "source": [
    "* pd.to_datetime: Chuyển đổi chuỗi thành đối tượng datetime trong Pandas."
   ]
  },
  {
   "cell_type": "code",
   "execution_count": 1,
   "id": "8828492c-42e4-47d0-ac83-21854e79dc35",
   "metadata": {},
   "outputs": [
    {
     "name": "stdout",
     "output_type": "stream",
     "text": [
      "DataFrame ban đầu:\n",
      "     date_str\n",
      "0  2024/01/01\n",
      "1  2024/02/15\n",
      "2  2024/03/30\n",
      "---\n",
      "DataFrame sau khi chuyển đổi:\n",
      "     date_str    date_dt\n",
      "0  2024/01/01 2024-01-01\n",
      "1  2024/02/15 2024-02-15\n",
      "2  2024/03/30 2024-03-30\n",
      "---\n",
      "date_str            object\n",
      "date_dt     datetime64[ns]\n",
      "dtype: object\n"
     ]
    }
   ],
   "source": [
    "import pandas as pd\n",
    "\n",
    "# Tạo DataFrame với cột ngày tháng dưới dạng chuỗi\n",
    "data = {'date_str': ['2024/01/01', '2024/02/15', '2024/03/30']}\n",
    "df = pd.DataFrame(data)\n",
    "\n",
    "print(\"DataFrame ban đầu:\")\n",
    "print(df)\n",
    "print(f\"---\")\n",
    "\n",
    "# Chuyển đổi cột 'date_str' thành datetime\n",
    "df['date_dt'] = pd.to_datetime(df['date_str'], format=\"%Y/%m/%d\") # format theo định dạng đầu vào của string\n",
    "\n",
    "print(\"DataFrame sau khi chuyển đổi:\")\n",
    "print(df)\n",
    "print(f\"---\")\n",
    "print(df.dtypes)"
   ]
  },
  {
   "cell_type": "code",
   "execution_count": 2,
   "id": "abd039a9-444f-42bc-aad0-c1a5fecf8aa0",
   "metadata": {},
   "outputs": [
    {
     "name": "stdout",
     "output_type": "stream",
     "text": [
      "\n",
      "DataFrame sau khi định dạng lại:\n",
      "     date_str    date_dt formatted_date\n",
      "0  2024/01/01 2024-01-01     01/01/2024\n",
      "1  2024/02/15 2024-02-15     15/02/2024\n",
      "2  2024/03/30 2024-03-30     30/03/2024\n"
     ]
    }
   ],
   "source": [
    "# Định dạng lại cột 'date_dt' thành chuỗi theo định dạng ngày-tháng-năm\n",
    "# strftime: Định dạng đối tượng datetime thành chuỗi theo định dạng cụ thể.\n",
    "df['formatted_date'] = df['date_dt'].dt.strftime('%d/%m/%Y')\n",
    "\n",
    "print(\"\\nDataFrame sau khi định dạng lại:\")\n",
    "print(df)"
   ]
  },
  {
   "cell_type": "code",
   "execution_count": null,
   "id": "09af2674-7540-4ae0-87e6-b99417e739b4",
   "metadata": {},
   "outputs": [],
   "source": []
  }
 ],
 "metadata": {
  "kernelspec": {
   "display_name": "Python 3 (ipykernel)",
   "language": "python",
   "name": "python3"
  },
  "language_info": {
   "codemirror_mode": {
    "name": "ipython",
    "version": 3
   },
   "file_extension": ".py",
   "mimetype": "text/x-python",
   "name": "python",
   "nbconvert_exporter": "python",
   "pygments_lexer": "ipython3",
   "version": "3.10.6"
  }
 },
 "nbformat": 4,
 "nbformat_minor": 5
}
