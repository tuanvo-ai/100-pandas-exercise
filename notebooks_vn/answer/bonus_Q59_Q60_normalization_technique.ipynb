{
 "cells": [
  {
   "cell_type": "markdown",
   "id": "812af603-9a32-4183-9245-119f2ebf0362",
   "metadata": {},
   "source": [
    "# Sự khác nhau giữa `MinMaxScaler` và `StandardScaler`\n",
    "\n",
    "* **MinMaxScaler**\n",
    "    - **Chức năng**: Chuyển đổi các giá trị của một đặc trưng (feature) về một khoảng giá trị cụ thể, thường là từ 0 đến 1.\n",
    "    - **Cách hoạt động**: MinMaxScaler làm việc bằng cách lấy mỗi giá trị của đặc trưng và thực hiện phép biến đổi tuyến tính để đảm bảo rằng giá trị nhỏ nhất (min) của đặc trưng sẽ là 0 và giá trị lớn nhất (max) sẽ là 1.\n",
    "    - **Công thức**:\n",
    "\n",
    "      $$X_{\\text{scaled}} = \\frac{X - X_{\\text{min}}}{X_{\\text{max}} - X_{\\text{min}}}\\$$\n",
    "          - $X$ là giá trị gốc.\n",
    "          - $X_{\\text{min}}$ là giá trị nhỏ nhất của đặc trưng.\n",
    "          - $X_{\\text{max}}$ là giá trị lớn nhất của đặc trưng.\n",
    "  \n",
    "    * *Ví dụ:*\n",
    "        * Giả sử bạn có một đặc trưng với các giá trị: `[2, 4, 6, 8, 10]`.\n",
    "        * Sau khi sử dụng `MinMaxScaler`, các giá trị sẽ trở thành: `[0, 0.25, 0.5, 0.75, 1]`.\n",
    "\n",
    "* **StandardScaler**\n",
    "    - **Chức năng**: Chuyển đổi các giá trị của một đặc trưng sao cho chúng có giá trị trung bình bằng 0 và độ lệch chuẩn bằng 1 (chuẩn hóa dữ liệu).\n",
    "    - **Cách hoạt động**: StandardScaler làm việc bằng cách lấy mỗi giá trị của đặc trưng và trừ đi giá trị trung bình của đặc trưng đó, sau đó chia cho độ lệch chuẩn của đặc trưng.\n",
    "    - **Công thức**:\n",
    "        $$X_{\\text{scaled}} = \\frac{X - \\mu}{\\sigma}$$\n",
    "          - $X$ là giá trị gốc.\n",
    "          - $\\mu$ là giá trị trung bình của đặc trưng.\n",
    "          - $\\sigma$ là độ lệch chuẩn của đặc trưng.\n",
    "\n",
    "    * *Ví dụ:*\n",
    "        * Giả sử bạn có một đặc trưng với các giá trị: `[2, 4, 6, 8, 10]`.\n",
    "        * Giá trị trung bình $\\mu$ là 6 và độ lệch chuẩn $\\sigma$ là khoảng 2.83.\n",
    "        * Sau khi sử dụng `StandardScaler`, các giá trị sẽ trở thành khoảng: `[-1.41, -0.71, 0, 0.71, 1.41]`.\n",
    "\n",
    "* **Tóm tắt sự khác biệt**\n",
    "    - **MinMaxScaler**:\n",
    "      - Chuyển đổi giá trị về một khoảng cố định, thường là [0, 1].\n",
    "      - Dữ liệu sau khi chuyển đổi giữ nguyên hình dạng phân phối ban đầu nhưng được nén hoặc kéo dài trong khoảng cố định.\n",
    "    - **StandardScaler**:\n",
    "      - Chuyển đổi giá trị sao cho dữ liệu có trung bình bằng 0 và độ lệch chuẩn bằng 1.\n",
    "      - Dữ liệu sau khi chuyển đổi có hình dạng phân phối giống với phân phối chuẩn (Gaussian distribution).\n",
    "\n",
    "* **Khi nào sử dụng cái nào?**\n",
    "    - **MinMaxScaler**: Thích hợp khi bạn muốn dữ liệu của mình nằm trong một khoảng giá trị cụ thể, đặc biệt khi dữ liệu có giá trị nằm trong một khoảng cụ thể hoặc khi sử dụng các thuật toán nhạy cảm với khoảng giá trị (như neural networks).\n",
    "    - **StandardScaler**: Thích hợp khi bạn muốn chuẩn hóa dữ liệu để có trung bình bằng 0 và độ lệch chuẩn bằng 1, đặc biệt hữu ích khi sử dụng các thuật toán dựa trên khoảng cách (như k-means, SVM)."
   ]
  },
  {
   "cell_type": "code",
   "execution_count": null,
   "id": "c1ae9ac3-310b-4d20-a2ce-5b4d43a7fc4c",
   "metadata": {},
   "outputs": [],
   "source": []
  }
 ],
 "metadata": {
  "kernelspec": {
   "display_name": "Python 3 (ipykernel)",
   "language": "python",
   "name": "python3"
  },
  "language_info": {
   "codemirror_mode": {
    "name": "ipython",
    "version": 3
   },
   "file_extension": ".py",
   "mimetype": "text/x-python",
   "name": "python",
   "nbconvert_exporter": "python",
   "pygments_lexer": "ipython3",
   "version": "3.10.6"
  }
 },
 "nbformat": 4,
 "nbformat_minor": 5
}
