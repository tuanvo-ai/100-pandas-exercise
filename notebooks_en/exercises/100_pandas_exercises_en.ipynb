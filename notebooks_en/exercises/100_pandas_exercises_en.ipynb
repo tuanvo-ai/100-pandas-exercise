{
 "cells": [
  {
   "cell_type": "markdown",
   "metadata": {},
   "source": [
    "# **Data Science 100 Exercises (Structured Data Processing Edition) - Python**"
   ]
  },
  {
   "cell_type": "markdown",
   "metadata": {},
   "source": [
    "## Basic setting\n"
   ]
  },
  {
   "cell_type": "code",
   "execution_count": 3,
   "metadata": {},
   "outputs": [],
   "source": [
    "import os\n",
    "import pandas as pd\n",
    "import numpy as np\n",
    "\n",
    "dtype = {\n",
    "    'customer_id': str,\n",
    "    'gender_cd': str,\n",
    "    'postal_cd': str,\n",
    "    'application_store_cd': str,\n",
    "    'status_cd': str,\n",
    "    'category_major_cd': str,\n",
    "    'category_medium_cd': str,\n",
    "    'category_small_cd': str,\n",
    "    'product_cd': str,\n",
    "    'store_cd': str,\n",
    "    'prefecture_cd': str,\n",
    "    'tel_no': str,\n",
    "    'postal_cd': str,\n",
    "    'street': str\n",
    "}\n",
    "\n",
    "df_customer = pd.read_csv(\"../data/raw/customer.csv\", dtype=dtype)\n",
    "df_category = pd.read_csv(\"../data/raw/category.csv\", dtype=dtype)\n",
    "df_product = pd.read_csv(\"../data/raw/product.csv\", dtype=dtype)\n",
    "df_receipt = pd.read_csv(\"../data/raw/receipt.csv\", dtype=dtype)\n",
    "df_store = pd.read_csv(\"../data/raw/store.csv\", dtype=dtype)\n",
    "df_geocode = pd.read_csv(\"../data/raw/geocode.csv\", dtype=dtype)\n"
   ]
  },
  {
   "cell_type": "markdown",
   "metadata": {},
   "source": [
    "## Exercise Problems"
   ]
  },
  {
   "cell_type": "markdown",
   "metadata": {},
   "source": [
    "---\n",
    "> P-001: Display the first 10 rows of all items from the receipt details data (df_receipt) to visually confirm what kind of data it contains."
   ]
  },
  {
   "cell_type": "code",
   "execution_count": null,
   "metadata": {},
   "outputs": [],
   "source": []
  },
  {
   "cell_type": "markdown",
   "metadata": {},
   "source": [
    "---\n",
    "> P-002: From the receipt details data (df_receipt), specify the columns in the order of sales date (sales_ymd), customer ID (customer_id), product code (product_cd), and sales amount (amount), and display 10 rows."
   ]
  },
  {
   "cell_type": "code",
   "execution_count": null,
   "metadata": {},
   "outputs": [],
   "source": []
  },
  {
   "cell_type": "markdown",
   "metadata": {},
   "source": [
    "---\n",
    "> P-003: From the receipt details data (df_receipt), specify the columns in the order of sales date (sales_ymd), customer ID (customer_id), product code (product_cd), and sales amount (amount), and display 10 rows. However, change the item name sales_ymd to sales_date when extracting."
   ]
  },
  {
   "cell_type": "code",
   "execution_count": null,
   "metadata": {},
   "outputs": [],
   "source": []
  },
  {
   "cell_type": "markdown",
   "metadata": {},
   "source": [
    "---\n",
    "> P-004: From the receipt details data (df_receipt), specify the columns in the order of sales date (sales_ymd), customer ID (customer_id), product code (product_cd), and sales amount (amount), and extract the data that meets the following condition:\n",
    "> * The customer ID (customer_id) is \"CS018205000001\"."
   ]
  },
  {
   "cell_type": "code",
   "execution_count": null,
   "metadata": {},
   "outputs": [],
   "source": []
  },
  {
   "cell_type": "markdown",
   "metadata": {},
   "source": [
    "---\n",
    "> P-005: From the receipt details data (df_receipt), specify the columns in the order of sales date (sales_ymd), customer ID (customer_id), product code (product_cd), and sales amount (amount), and extract the data that meets all of the following conditions:\n",
    "> * The customer ID (customer_id) is \"CS018205000001\".\n",
    "> * The sales amount (amount) is 1,000 or more."
   ]
  },
  {
   "cell_type": "code",
   "execution_count": null,
   "metadata": {},
   "outputs": [],
   "source": []
  },
  {
   "cell_type": "markdown",
   "metadata": {},
   "source": [
    "---\n",
    "> P-006: From the receipt details data (df_receipt), specify the columns in the order of sales date (sales_ymd), customer ID (customer_id), product code (product_cd), sales quantity (quantity), and sales amount (amount), and extract the data that meets all of the following conditions:\n",
    "> * The customer ID (customer_id) is \"CS018205000001\".\n",
    "> * The sales amount (amount) is 1,000 or more or the sales quantity (quantity) is 5 or more."
   ]
  },
  {
   "cell_type": "code",
   "execution_count": null,
   "metadata": {},
   "outputs": [],
   "source": []
  },
  {
   "cell_type": "markdown",
   "metadata": {},
   "source": [
    "---\n",
    "> P-007: From the receipt details data (df_receipt), specify the columns in the order of sales date (sales_ymd), customer ID (customer_id), product code (product_cd), and sales amount (amount), and extract the data that meets all of the following conditions:\n",
    "> * The customer ID (customer_id) is \"CS018205000001\".\n",
    "> * The sales amount (amount) is 1,000 or more and 2,000 or less."
   ]
  },
  {
   "cell_type": "code",
   "execution_count": null,
   "metadata": {},
   "outputs": [],
   "source": []
  },
  {
   "cell_type": "markdown",
   "metadata": {},
   "source": [
    "---\n",
    "> P-008: From the receipt details data (df_receipt), specify the columns in the order of sales date (sales_ymd), customer ID (customer_id), product code (product_cd), and sales amount (amount), and extract the data that meets all of the following conditions:\n",
    "> * The customer ID (customer_id) is \"CS018205000001\".\n",
    "> * The product code (product_cd) is not \"P071401019\"."
   ]
  },
  {
   "cell_type": "code",
   "execution_count": null,
   "metadata": {},
   "outputs": [],
   "source": []
  },
  {
   "cell_type": "markdown",
   "metadata": {},
   "source": [
    "---\n",
    "> P-009: Rewrite the following process without changing the output results, replacing the OR condition with AND.\n",
    "> \n",
    "> `df_store.query('not(prefecture_cd == \"13\" | floor_area > 900)')`"
   ]
  },
  {
   "cell_type": "code",
   "execution_count": null,
   "metadata": {},
   "outputs": [],
   "source": []
  },
  {
   "cell_type": "markdown",
   "metadata": {},
   "source": [
    "---\n",
    "> P-010: From the store data (df_store), extract and display 10 rows of all items where the store code (store_cd) starts with \"S14\"."
   ]
  },
  {
   "cell_type": "code",
   "execution_count": null,
   "metadata": {},
   "outputs": [],
   "source": []
  },
  {
   "cell_type": "markdown",
   "metadata": {},
   "source": [
    "---\n",
    "> P-011: From the customer data (df_customer), extract and display 10 rows of all items where the customer ID (customer_id) ends with \"01\"."
   ]
  },
  {
   "cell_type": "code",
   "execution_count": null,
   "metadata": {},
   "outputs": [],
   "source": []
  },
  {
   "cell_type": "markdown",
   "metadata": {},
   "source": [
    "---\n",
    "> P-012: From the store data (df_store), display all items that include \"Yokohama City\" in the address (address)."
   ]
  },
  {
   "cell_type": "code",
   "execution_count": null,
   "metadata": {},
   "outputs": [],
   "source": []
  },
  {
   "cell_type": "markdown",
   "metadata": {},
   "source": [
    "---\n",
    "> P-013: From the customer data (df_customer), extract and display 10 rows of all items where the status code (status_cd) starts with an alphabet from A to F."
   ]
  },
  {
   "cell_type": "code",
   "execution_count": null,
   "metadata": {},
   "outputs": [],
   "source": []
  },
  {
   "cell_type": "markdown",
   "metadata": {},
   "source": [
    "---\n",
    "> P-014: From the customer data (df_customer), extract and display 10 rows of all items where the status code (status_cd) ends with a number from 1 to 9."
   ]
  },
  {
   "cell_type": "code",
   "execution_count": null,
   "metadata": {},
   "outputs": [],
   "source": []
  },
  {
   "cell_type": "markdown",
   "metadata": {},
   "source": [
    "---\n",
    "> P-015: From the customer data (df_customer), extract and display 10 rows of all items where the status code (status_cd) starts with an alphabet from A to F and ends with a number from 1 to 9.\n"
   ]
  },
  {
   "cell_type": "code",
   "execution_count": null,
   "metadata": {},
   "outputs": [],
   "source": []
  },
  {
   "cell_type": "markdown",
   "metadata": {},
   "source": [
    "---\n",
    "> P-016: From the store data (df_store), display all items where the telephone number (tel_no) starts with 3 digits and ends with 4 digits."
   ]
  },
  {
   "cell_type": "code",
   "execution_count": null,
   "metadata": {},
   "outputs": [],
   "source": []
  },
  {
   "cell_type": "markdown",
   "metadata": {},
   "source": [
    "---\n",
    "> P-017: Sort the customer data (df_customer) in descending order by birth date (birth_day), and display the first 10 rows of all items."
   ]
  },
  {
   "cell_type": "code",
   "execution_count": null,
   "metadata": {},
   "outputs": [],
   "source": []
  },
  {
   "cell_type": "markdown",
   "metadata": {},
   "source": [
    "---\n",
    "> P-018: Sort the customer data (df_customer) in ascending order by birth date (birth_day), and display the first 10 rows of all items."
   ]
  },
  {
   "cell_type": "code",
   "execution_count": null,
   "metadata": {},
   "outputs": [],
   "source": []
  },
  {
   "cell_type": "markdown",
   "metadata": {},
   "source": [
    "---\n",
    "> P-019: For the receipt details data (df_receipt), rank the items in descending order by sales amount per item (amount), and display the top 10 rows with the assigned rank. The columns to display are customer ID (customer_id) and sales amount (amount). In the case of ties in sales amount, assign the same rank and skip the next rank."
   ]
  },
  {
   "cell_type": "code",
   "execution_count": null,
   "metadata": {},
   "outputs": [],
   "source": []
  },
  {
   "cell_type": "markdown",
   "metadata": {},
   "source": [
    "---\n",
    "> P-020: For the receipt details data (df_receipt), rank the items in descending order by sales amount per item (amount), and display the top 10 rows with the assigned rank. The columns to display are customer ID (customer_id) and sales amount (amount). In the case of ties in sales amount, assign the same rank but give the next rank to the following item."
   ]
  },
  {
   "cell_type": "code",
   "execution_count": null,
   "metadata": {},
   "outputs": [],
   "source": []
  },
  {
   "cell_type": "markdown",
   "metadata": {},
   "source": [
    "---\n",
    "> P-021: Count the number of items in the receipt details data (df_receipt)."
   ]
  },
  {
   "cell_type": "code",
   "execution_count": null,
   "metadata": {},
   "outputs": [],
   "source": []
  },
  {
   "cell_type": "markdown",
   "metadata": {},
   "source": [
    "---\n",
    "> P-022: Count the number of unique values in the customer ID (customer_id) column in the receipt details data (df_receipt)."
   ]
  },
  {
   "cell_type": "code",
   "execution_count": null,
   "metadata": {},
   "outputs": [],
   "source": []
  },
  {
   "cell_type": "markdown",
   "metadata": {},
   "source": [
    "---\n",
    "> P-023: For the receipt details data (df_receipt), sum the sales amount (amount) and sales quantity (quantity) for each store code (store_cd)."
   ]
  },
  {
   "cell_type": "code",
   "execution_count": null,
   "metadata": {},
   "outputs": [],
   "source": []
  },
  {
   "cell_type": "markdown",
   "metadata": {},
   "source": [
    "---\n",
    "> P-024: For each customer ID (customer_id) in the receipt details data (df_receipt), find the most recent sales date (sales_ymd), and display the top 10 rows."
   ]
  },
  {
   "cell_type": "code",
   "execution_count": null,
   "metadata": {},
   "outputs": [],
   "source": []
  },
  {
   "cell_type": "markdown",
   "metadata": {},
   "source": [
    "---\n",
    "> P-025: For each customer ID (customer_id) in the receipt details data (df_receipt), find the oldest sales date (sales_ymd), and display the top 10 rows."
   ]
  },
  {
   "cell_type": "code",
   "execution_count": null,
   "metadata": {},
   "outputs": [],
   "source": []
  },
  {
   "cell_type": "markdown",
   "metadata": {},
   "source": [
    "---\n",
    "> P-026: For each customer ID (customer_id) in the receipt details data (df_receipt), find the most recent and the oldest sales dates (sales_ymd), and display the top 10 rows where the gap is the smallest."
   ]
  },
  {
   "cell_type": "code",
   "execution_count": null,
   "metadata": {},
   "outputs": [],
   "source": []
  },
  {
   "cell_type": "markdown",
   "metadata": {},
   "source": [
    "---\n",
    "> P-027: For each store code (store_cd) in the receipt details data (df_receipt), calculate the average sales amount (amount), and display the top 5 in descending order."
   ]
  },
  {
   "cell_type": "code",
   "execution_count": null,
   "metadata": {},
   "outputs": [],
   "source": []
  },
  {
   "cell_type": "markdown",
   "metadata": {},
   "source": [
    "---\n",
    "> P-028: For each store code (store_cd) in the receipt details data (df_receipt), calculate the median sales amount (amount), and display the top 5 in descending order."
   ]
  },
  {
   "cell_type": "code",
   "execution_count": null,
   "metadata": {},
   "outputs": [],
   "source": []
  },
  {
   "cell_type": "markdown",
   "metadata": {},
   "source": [
    "---\n",
    "> P-029: For each store code (store_cd) in the receipt details data (df_receipt), find the most frequent product code (product_cd), and display the top 10."
   ]
  },
  {
   "cell_type": "code",
   "execution_count": null,
   "metadata": {},
   "outputs": [],
   "source": []
  },
  {
   "cell_type": "markdown",
   "metadata": {},
   "source": [
    "---\n",
    "> P-030: For each store code (store_cd) in the receipt details data (df_receipt), calculate the variance of the sales amount (amount), and display the top 5 in descending order."
   ]
  },
  {
   "cell_type": "code",
   "execution_count": null,
   "metadata": {},
   "outputs": [],
   "source": []
  },
  {
   "cell_type": "markdown",
   "metadata": {},
   "source": [
    "---\n",
    "> P-031: For each store code (store_cd) in the receipt details data (df_receipt), calculate the standard deviation of the sales amount (amount), and display the top 5 in descending order."
   ]
  },
  {
   "cell_type": "markdown",
   "metadata": {},
   "source": [
    "TIPS:\n",
    "\n",
    "Pay attention to the default ddof value difference between Pandas and Numpy.\n",
    "```\n",
    "Pandas：\n",
    "DataFrame.std(self, axis=None, skipna=None, level=None, ddof=1, numeric_only=None, **kwargs)\n",
    "Numpy:\n",
    "numpy.std(a, axis=None, dtype=None, out=None, ddof=0, keepdims=)\n",
    "```"
   ]
  },
  {
   "cell_type": "code",
   "execution_count": null,
   "metadata": {},
   "outputs": [],
   "source": []
  },
  {
   "cell_type": "markdown",
   "metadata": {},
   "source": [
    "---\n",
    "> P-032: For the sales amount (amount) in the receipt details data (df_receipt), calculate the 25th and 75th percentile values."
   ]
  },
  {
   "cell_type": "code",
   "execution_count": null,
   "metadata": {},
   "outputs": [],
   "source": []
  },
  {
   "cell_type": "markdown",
   "metadata": {},
   "source": [
    "---\n",
    "> P-033: For the receipt details data (df_receipt), calculate the average sales amount (amount) for each store code (store_cd), and extract those that are 330 or more."
   ]
  },
  {
   "cell_type": "code",
   "execution_count": null,
   "metadata": {},
   "outputs": [],
   "source": []
  },
  {
   "cell_type": "markdown",
   "metadata": {},
   "source": [
    "---\n",
    "> P-034: For the receipt details data (df_receipt), calculate the average sales amount (amount) per customer ID (customer_id), and exclude the average sales amount per customer whose ID starts with \"Z\" from the overall average calculation."
   ]
  },
  {
   "cell_type": "code",
   "execution_count": null,
   "metadata": {},
   "outputs": [],
   "source": []
  },
  {
   "cell_type": "markdown",
   "metadata": {},
   "source": [
    "---\n",
    "> P-035: For the receipt details data (df_receipt), calculate the average sales amount (amount) per customer ID (customer_id), and extract the top 10 customers with above-average sales amounts. Exclude the average sales amount per customer whose ID starts with \"Z\" from the overall average calculation."
   ]
  },
  {
   "cell_type": "code",
   "execution_count": null,
   "metadata": {},
   "outputs": [],
   "source": []
  },
  {
   "cell_type": "markdown",
   "metadata": {},
   "source": [
    "---\n",
    "> P-036: Merge the receipt details data (df_receipt) and the store data (df_store), and display 10 rows of all items, including the store name (store_name) from the store data."
   ]
  },
  {
   "cell_type": "code",
   "execution_count": null,
   "metadata": {},
   "outputs": [],
   "source": []
  },
  {
   "cell_type": "markdown",
   "metadata": {},
   "source": [
    "---\n",
    "> P-037: Merge the product data (df_product) and the category data (df_category), and display 10 rows of all items, including the category small name (category_small_name) from the category data."
   ]
  },
  {
   "cell_type": "code",
   "execution_count": null,
   "metadata": {},
   "outputs": [],
   "source": []
  },
  {
   "cell_type": "markdown",
   "metadata": {},
   "source": [
    "---\n",
    "> P-038: From the customer data (df_customer) and the receipt details data (df_receipt), calculate the total sales amount for each customer and display the top 10. However, exclude customers without sales data and only display female customers (gender code (gender_cd) = 1)."
   ]
  },
  {
   "cell_type": "code",
   "execution_count": null,
   "metadata": {},
   "outputs": [],
   "source": []
  },
  {
   "cell_type": "markdown",
   "metadata": {},
   "source": [
    "---\n",
    "> P-039: From the receipt details data (df_receipt), create a dataset of the top 20 customers with the highest number of sales transactions and another dataset of the top 20 customers with the highest total sales amount, then merge these two datasets to display the top 20. Exclude non-members (customer ID (customer_id) starting with \"Z\")."
   ]
  },
  {
   "cell_type": "code",
   "execution_count": null,
   "metadata": {},
   "outputs": [],
   "source": []
  },
  {
   "cell_type": "markdown",
   "metadata": {},
   "source": [
    "---\n",
    "> P-040: Create a dataset combining all products from all stores, and merge it with the store data (df_store) and product data (df_product)."
   ]
  },
  {
   "cell_type": "code",
   "execution_count": null,
   "metadata": {},
   "outputs": [],
   "source": []
  },
  {
   "cell_type": "markdown",
   "metadata": {},
   "source": [
    "---\n",
    "> P-041: For the sales amount (amount) in the receipt details data (df_receipt), calculate the difference in sales amount for each sales date (sales_ymd) compared to the previous day, then display the top 10 results."
   ]
  },
  {
   "cell_type": "code",
   "execution_count": null,
   "metadata": {},
   "outputs": [],
   "source": []
  },
  {
   "cell_type": "markdown",
   "metadata": {},
   "source": [
    "---\n",
    "> P-042: For the sales amount (amount) in the receipt details data (df_receipt), calculate the difference in sales amount for each sales date (sales_ymd) compared to the previous day, two days before, and three days before, then display the top 10 results."
   ]
  },
  {
   "cell_type": "code",
   "execution_count": null,
   "metadata": {},
   "outputs": [],
   "source": []
  },
  {
   "cell_type": "markdown",
   "metadata": {},
   "source": [
    "---\n",
    "> P-043: Merge the receipt details data (df_receipt) and customer data (df_customer), and create a summary dataset of total sales amount (amount) by gender code (gender_cd) and age group. Gender code 0 indicates male, 1 indicates female, and 9 indicates unknown. Display the total sales amount for each gender and age group, as well as a crosstabulation of gender and age group. Also, display the top 10 rows."
   ]
  },
  {
   "cell_type": "code",
   "execution_count": null,
   "metadata": {},
   "outputs": [],
   "source": []
  },
  {
   "cell_type": "markdown",
   "metadata": {},
   "source": [
    "---\n",
    "> P-044: The summary dataset created in P-043 (df_sales_summary) shows the total sales amount by gender and age group. Change the gender code values to \"00\" for male, \"01\" for female, and \"99\" for unknown, then display the top 10 rows."
   ]
  },
  {
   "cell_type": "code",
   "execution_count": null,
   "metadata": {},
   "outputs": [],
   "source": []
  },
  {
   "cell_type": "markdown",
   "metadata": {},
   "source": [
    "---\n",
    "> P-045: The birth date (birth_day) in the customer data (df_customer) is stored as date type data. Convert this to a string in the format YYYYMMDD and display it along with the customer ID (customer_id), showing the top 10 rows."
   ]
  },
  {
   "cell_type": "code",
   "execution_count": null,
   "metadata": {},
   "outputs": [],
   "source": []
  },
  {
   "cell_type": "markdown",
   "metadata": {},
   "source": [
    "---\n",
    "> P-046: The application date (application_date) in the customer data (df_customer) is stored as a string in the format YYYYMMDD. Convert this to date type data and display it along with the customer ID (customer_id), showing the top 10 rows."
   ]
  },
  {
   "cell_type": "code",
   "execution_count": null,
   "metadata": {},
   "outputs": [],
   "source": []
  },
  {
   "cell_type": "markdown",
   "metadata": {},
   "source": [
    "---\n",
    "> P-047: The sales date (sales_ymd) in the receipt details data (df_receipt) is stored as an integer in the format YYYYMMDD. Convert this to date type data and display it along with the receipt number (receipt_no) and receipt sub-number (receipt_sub_no), showing the top 10 rows."
   ]
  },
  {
   "cell_type": "code",
   "execution_count": null,
   "metadata": {},
   "outputs": [],
   "source": []
  },
  {
   "cell_type": "markdown",
   "metadata": {},
   "source": [
    "---\n",
    "> P-048: The sales epoch (sales_epoch) in the receipt details data (df_receipt) is stored as integer UNIX seconds. Convert this to date type data and display it along with the receipt number (receipt_no) and receipt sub-number (receipt_sub_no), showing the top 10 rows."
   ]
  },
  {
   "cell_type": "code",
   "execution_count": null,
   "metadata": {},
   "outputs": [],
   "source": []
  },
  {
   "cell_type": "markdown",
   "metadata": {},
   "source": [
    "---\n",
    "> P-049: Convert the sales epoch (sales_epoch) in the receipt details data (df_receipt) to date type data and extract only the \"year\". Display this along with the receipt number (receipt_no) and receipt sub-number (receipt_sub_no), showing the top 10 rows."
   ]
  },
  {
   "cell_type": "code",
   "execution_count": null,
   "metadata": {},
   "outputs": [],
   "source": []
  },
  {
   "cell_type": "markdown",
   "metadata": {},
   "source": [
    "---\n",
    "> P-050: Convert the sales epoch (sales_epoch) in the receipt details data (df_receipt) to date type data and extract only the \"month\". Display this along with the receipt number (receipt_no) and receipt sub-number (receipt_sub_no), showing the top 10 rows. Note that \"month\" should be extracted as a 2-digit number."
   ]
  },
  {
   "cell_type": "code",
   "execution_count": null,
   "metadata": {},
   "outputs": [],
   "source": []
  },
  {
   "cell_type": "markdown",
   "metadata": {},
   "source": [
    "---\n",
    "> P-051: Convert the sales epoch (sales_epoch) in the receipt details data (df_receipt) to date type data and extract only the \"day\". Display this along with the receipt number (receipt_no) and receipt sub-number (receipt_sub_no), showing the top 10 rows. Note that \"day\" should be extracted as a 2-digit number."
   ]
  },
  {
   "cell_type": "code",
   "execution_count": null,
   "metadata": {},
   "outputs": [],
   "source": []
  },
  {
   "cell_type": "markdown",
   "metadata": {},
   "source": [
    "---\n",
    "> P-052: For the receipt details data (df_receipt), calculate the total sales amount (amount) for each customer ID (customer_id). If the total is 2,000 yen or less, double the amount; if it is more than 2,000 yen, halve the amount. Display the customer ID and the calculated sales amount, showing the top 10 rows. Exclude customers whose ID starts with \"Z\"."
   ]
  },
  {
   "cell_type": "code",
   "execution_count": null,
   "metadata": {},
   "outputs": [],
   "source": []
  },
  {
   "cell_type": "markdown",
   "metadata": {},
   "source": [
    "---\n",
    "> P-053: For the customer data (df_customer), reclassify the postal code (postal_cd) into two categories: \"Tokyo\" (if the first three digits are between 100 and 209) and \"Other\". Merge this with the receipt details data (df_receipt) and count the number of customers with sales records within each category."
   ]
  },
  {
   "cell_type": "code",
   "execution_count": null,
   "metadata": {},
   "outputs": [],
   "source": []
  },
  {
   "cell_type": "markdown",
   "metadata": {},
   "source": [
    "---\n",
    "> P-054: The address (address) in the customer data (df_customer) contains prefectures such as Saitama, Chiba, Tokyo, and Kanagawa. Create a code table for these prefectures and display it along with the customer ID and address, showing the top 10 rows. Assign Saitama a code of 11, Chiba 12, Tokyo 13, and Kanagawa 14."
   ]
  },
  {
   "cell_type": "code",
   "execution_count": null,
   "metadata": {},
   "outputs": [],
   "source": []
  },
  {
   "cell_type": "markdown",
   "metadata": {},
   "source": [
    "---\n",
    "> P-055: For the receipt details data (df_receipt), calculate the total sales amount (amount) for each customer ID (customer_id) and determine its quartile rank. Based on the quartile rank, create a category with the following values and display the customer ID and total sales amount, showing the top 10 rows:\n",
    "> - 1: Bottom quartile (0-25%)\n",
    "> - 2: Second quartile (25-50%)\n",
    "> - 3: Third quartile (50-75%)\n",
    "> - 4: Top quartile (75-100%)"
   ]
  },
  {
   "cell_type": "code",
   "execution_count": null,
   "metadata": {},
   "outputs": [],
   "source": []
  },
  {
   "cell_type": "markdown",
   "metadata": {},
   "source": [
    "---\n",
    "> P-056: Extract the age (age) from the customer data (df_customer) and classify it into age groups by decade. Display the customer ID and birth date (birth_day), showing the top 10 rows. Treat customers aged 60 and above as a single category of \"60+\". The age category should be labeled."
   ]
  },
  {
   "cell_type": "code",
   "execution_count": null,
   "metadata": {},
   "outputs": [],
   "source": []
  },
  {
   "cell_type": "markdown",
   "metadata": {},
   "source": [
    "---\n",
    "> P-057: Using the extracted age groups and gender code (gender_cd) from P-056, create a new categorical dataset representing the combination of age group and gender. Display the top 10 rows and list the unique values of the combined category."
   ]
  },
  {
   "cell_type": "code",
   "execution_count": null,
   "metadata": {},
   "outputs": [],
   "source": []
  },
  {
   "cell_type": "markdown",
   "metadata": {},
   "source": [
    "---\n",
    "> P-058: P-058: Convert the gender code (gender_cd) in the customer data (df_customer) to dummy variables and display it along with the customer ID (customer_id), showing the top 10 rows."
   ]
  },
  {
   "cell_type": "code",
   "execution_count": null,
   "metadata": {},
   "outputs": [],
   "source": []
  },
  {
   "cell_type": "markdown",
   "metadata": {},
   "source": [
    "---\n",
    "> P-059: For the receipt details data (df_receipt), calculate the average, standard deviation, and coefficient of variation of the total sales amount (amount) for each customer ID (customer_id), and display the top 10 rows along with the customer ID and total sales amount. Use either the population standard deviation or the sample standard deviation. Exclude customers whose ID starts with \"Z\"."
   ]
  },
  {
   "cell_type": "markdown",
   "metadata": {},
   "source": [
    "TIPS:\n",
    "- You can specify \"python\" or \"numexpr\" as the query engine in the argument of the query() method. The default is \"numexpr\" if installed, otherwise \"python\" is used. Additionally, the string method engine='python' cannot be used within query().\n"
   ]
  },
  {
   "cell_type": "code",
   "execution_count": null,
   "metadata": {},
   "outputs": [],
   "source": []
  },
  {
   "cell_type": "markdown",
   "metadata": {},
   "source": [
    "---\n",
    "> P-060: For the receipt details data (df_receipt), calculate the minimum and maximum total sales amount (amount) for each customer ID (customer_id), and normalize these values. Display the top 10 rows along with the customer ID and total sales amount. Exclude customers whose ID starts with \"Z\"."
   ]
  },
  {
   "cell_type": "code",
   "execution_count": null,
   "metadata": {},
   "outputs": [],
   "source": []
  },
  {
   "cell_type": "markdown",
   "metadata": {},
   "source": [
    "---\n",
    "> P-061: For the receipt details data (df_receipt), calculate the total sales amount (amount) for each customer ID (customer_id), and apply the natural logarithm transformation (base 10). Display the top 10 rows along with the customer ID and total sales amount. Exclude customers whose ID starts with \"Z\"."
   ]
  },
  {
   "cell_type": "code",
   "execution_count": null,
   "metadata": {},
   "outputs": [],
   "source": []
  },
  {
   "cell_type": "markdown",
   "metadata": {},
   "source": [
    "---\n",
    "> P-062: For the receipt details data (df_receipt), calculate the total sales amount (amount) for each customer ID (customer_id), and apply the natural logarithm transformation (base e). Display the top 10 rows along with the customer ID and total sales amount. Exclude customers whose ID starts with \"Z\"."
   ]
  },
  {
   "cell_type": "code",
   "execution_count": null,
   "metadata": {},
   "outputs": [],
   "source": []
  },
  {
   "cell_type": "markdown",
   "metadata": {},
   "source": [
    "---\n",
    "> P-063: For the product data (df_product), calculate the gross profit for each product using the unit price (unit_price) and unit cost (unit_cost), and display the top 10 rows."
   ]
  },
  {
   "cell_type": "code",
   "execution_count": null,
   "metadata": {},
   "outputs": [],
   "source": []
  },
  {
   "cell_type": "markdown",
   "metadata": {},
   "source": [
    "---\n",
    "> P-064: For each product in the product data (df_product), calculate the average gross profit margin using the unit price (unit_price) and unit cost (unit_cost). Note that the unit price and unit cost may have missing values."
   ]
  },
  {
   "cell_type": "code",
   "execution_count": null,
   "metadata": {},
   "outputs": [],
   "source": []
  },
  {
   "cell_type": "markdown",
   "metadata": {},
   "source": [
    "---\n",
    "> P-065: For each product in the product data (df_product), calculate the new unit price that achieves a gross profit margin of 30%. Round down to the nearest yen. Display the top 10 results and confirm that the gross profit margin is approximately 30%. Note that the unit price (unit_price) and unit cost (unit_cost) may have missing values."
   ]
  },
  {
   "cell_type": "code",
   "execution_count": null,
   "metadata": {},
   "outputs": [],
   "source": []
  },
  {
   "cell_type": "markdown",
   "metadata": {},
   "source": [
    "---\n",
    "> P-066: For each product in the product data (df_product), calculate the new unit price that achieves a gross profit margin of 30%. This time, round up to the nearest yen (ceil). Display the top 10 results and confirm that the gross profit margin is approximately 30%. Note that the unit price (unit_price) and unit cost (unit_cost) may have missing values."
   ]
  },
  {
   "cell_type": "code",
   "execution_count": null,
   "metadata": {},
   "outputs": [],
   "source": []
  },
  {
   "cell_type": "markdown",
   "metadata": {},
   "source": [
    "---\n",
    "> P-067: For each product in the product data (df_product), calculate the new unit price that achieves a gross profit margin of 30%. This time, round up to the nearest yen. Display the top 10 results and confirm that the gross profit margin is approximately 30%. Note that the unit price (unit_price) and unit cost (unit_cost) may have missing values."
   ]
  },
  {
   "cell_type": "code",
   "execution_count": null,
   "metadata": {},
   "outputs": [],
   "source": []
  },
  {
   "cell_type": "markdown",
   "metadata": {},
   "source": [
    "---\n",
    "> P-068: For each product in the product data (df_product), calculate the price including a 10% consumption tax. Round down to the nearest yen and display the top 10 results. Note that the unit price (unit_price) may have missing values."
   ]
  },
  {
   "cell_type": "code",
   "execution_count": null,
   "metadata": {},
   "outputs": [],
   "source": []
  },
  {
   "cell_type": "markdown",
   "metadata": {},
   "source": [
    "---\n",
    "> P-069: Merge the receipt details data (df_receipt) and the product data (df_product), then calculate the total sales amount for each customer annually. Calculate the percentage of sales for the category major code (category_major_cd) \"07\" (Household appliances) and display the top 10 results. The extraction target is the category major code \"07\"."
   ]
  },
  {
   "cell_type": "code",
   "execution_count": null,
   "metadata": {},
   "outputs": [],
   "source": []
  },
  {
   "cell_type": "markdown",
   "metadata": {},
   "source": [
    "---\n",
    "> P-070: For the receipt details data (df_receipt), calculate the number of elapsed days from the application date (application_date) of the customer data (df_customer) for each sales date (sales_ymd). Display the customer ID (customer_id), sales date, and elapsed days along with the application date, showing the top 10 rows. Note that the application date is stored as a string."
   ]
  },
  {
   "cell_type": "code",
   "execution_count": null,
   "metadata": {},
   "outputs": [],
   "source": []
  },
  {
   "cell_type": "markdown",
   "metadata": {},
   "source": [
    "---\n",
    "> P-071: For the receipt details data (df_receipt), calculate the number of elapsed months from the application date (application_date) in the customer data (df_customer) for each sales date (sales_ymd). Display the customer ID (customer_id), sales date, application date, and elapsed months along with the top 10 rows. Note that sales_ymd is stored as an integer."
   ]
  },
  {
   "cell_type": "code",
   "execution_count": null,
   "metadata": {},
   "outputs": [],
   "source": []
  },
  {
   "cell_type": "markdown",
   "metadata": {},
   "source": [
    "---\n",
    "> P-072: For the receipt details data (df_receipt), calculate the number of elapsed years from the application date (application_date) in the customer data (df_customer) for each sales date (sales_ymd). Display the customer ID (customer_id), sales date, application date, and elapsed years along with the top 10 rows. Note that sales_ymd is stored as an integer."
   ]
  },
  {
   "cell_type": "code",
   "execution_count": null,
   "metadata": {},
   "outputs": [],
   "source": []
  },
  {
   "cell_type": "markdown",
   "metadata": {},
   "source": [
    "---\n",
    "> P-073: For the receipt details data (df_receipt), calculate the elapsed time in epochs from the application date (application_date) in the customer data (df_customer) for each sales date (sales_ymd). Display the customer ID (customer_id), sales date, application date, and elapsed time in epochs along with the top 10 rows. Note that sales_ymd and application_date are stored as integers. Also, assume that the default time for dates without a time component is 00:00:00."
   ]
  },
  {
   "cell_type": "code",
   "execution_count": null,
   "metadata": {},
   "outputs": [],
   "source": []
  },
  {
   "cell_type": "markdown",
   "metadata": {},
   "source": [
    "---\n",
    "> P-074: For the receipt details data (df_receipt), calculate the number of elapsed months from the current month to each sales date (sales_ymd). Display the sales date, current month, and elapsed months along with the top 10 rows. Note that sales_ymd is stored as an integer."
   ]
  },
  {
   "cell_type": "code",
   "execution_count": null,
   "metadata": {},
   "outputs": [],
   "source": []
  },
  {
   "cell_type": "markdown",
   "metadata": {},
   "source": [
    "---\n",
    "> P-075: Randomly sample 1% of the data from the customer data (df_customer) and display the top 10 rows."
   ]
  },
  {
   "cell_type": "code",
   "execution_count": null,
   "metadata": {},
   "outputs": [],
   "source": []
  },
  {
   "cell_type": "markdown",
   "metadata": {},
   "source": [
    "---\n",
    "> P-076: Randomly sample 10% of the data from the customer data (df_customer) by gender (gender_cd), and display the frequency count for each gender."
   ]
  },
  {
   "cell_type": "code",
   "execution_count": null,
   "metadata": {},
   "outputs": [],
   "source": []
  },
  {
   "cell_type": "markdown",
   "metadata": {},
   "source": [
    "---\n",
    "> P-077: For the receipt details data (df_receipt), calculate the sales amount per transaction, identify and extract outliers, and calculate the average and standard deviation for the remaining transactions. Consider values that are more than 3 standard deviations away from the average as outliers. Display the results and the top 10 rows."
   ]
  },
  {
   "cell_type": "code",
   "execution_count": null,
   "metadata": {},
   "outputs": [],
   "source": []
  },
  {
   "cell_type": "markdown",
   "metadata": {},
   "source": [
    "---\n",
    "> P-078: For the receipt details data (df_receipt), calculate the sales amount (amount) per transaction and identify outliers. Exclude non-members whose customer ID starts with \"Z\" from the calculation. Use the IQR method to identify outliers, defined as values greater than Q3 + 1.5 * IQR or less than Q1 - 1.5 * IQR. Display the results and the top 10 rows."
   ]
  },
  {
   "cell_type": "code",
   "execution_count": null,
   "metadata": {},
   "outputs": [],
   "source": []
  },
  {
   "cell_type": "markdown",
   "metadata": {},
   "source": [
    "---\n",
    "> P-079: For the product data (df_product), check for missing values in each item."
   ]
  },
  {
   "cell_type": "code",
   "execution_count": null,
   "metadata": {},
   "outputs": [],
   "source": []
  },
  {
   "cell_type": "markdown",
   "metadata": {},
   "source": [
    "---\n",
    "> P-080: For the product data (df_product), create a new dataset by removing records with missing values in any of the items. Confirm that there are no missing values left by verifying the count of records before and after the operation performed in P-079."
   ]
  },
  {
   "cell_type": "code",
   "execution_count": null,
   "metadata": {},
   "outputs": [],
   "source": []
  },
  {
   "cell_type": "markdown",
   "metadata": {},
   "source": [
    "---\n",
    "> P-081: For the product data (df_product), impute missing values in unit price (unit_price) and unit cost (unit_cost) with their respective means, and create a new dataset. Round up the means to the nearest yen if necessary. After imputation, confirm that there are no missing values in any of the items."
   ]
  },
  {
   "cell_type": "code",
   "execution_count": null,
   "metadata": {},
   "outputs": [],
   "source": []
  },
  {
   "cell_type": "markdown",
   "metadata": {
    "tags": []
   },
   "source": [
    "---\n",
    "> P-082: For the product data (df_product), impute missing values in unit price (unit_price) and unit cost (unit_cost) with their respective medians, and create a new dataset. Round up the medians to the nearest yen if necessary. After imputation, confirm that there are no missing values in any of the items."
   ]
  },
  {
   "cell_type": "code",
   "execution_count": null,
   "metadata": {},
   "outputs": [],
   "source": []
  },
  {
   "cell_type": "markdown",
   "metadata": {},
   "source": [
    "---\n",
    "> P-083: For the product data (df_product), impute missing values in unit price (unit_price) and unit cost (unit_cost) by the median of each product's category small code (category_small_cd), and create a new dataset. Round up the medians to the nearest yen if necessary. After imputation, confirm that there are no missing values in any of the items."
   ]
  },
  {
   "cell_type": "code",
   "execution_count": null,
   "metadata": {},
   "outputs": [],
   "source": []
  },
  {
   "cell_type": "markdown",
   "metadata": {},
   "source": [
    "---\n",
    "> P-084: For the customer data (df_customer), calculate the total sales amount by occupation and the proportion of sales in 2019. Create a new dataset with these values, assuming no sales information exists if data is missing. Extract the proportion of sales and display the top 10 rows. Additionally, check for any missing values in the newly created data."
   ]
  },
  {
   "cell_type": "code",
   "execution_count": null,
   "metadata": {},
   "outputs": [],
   "source": []
  },
  {
   "cell_type": "markdown",
   "metadata": {},
   "source": [
    "---\n",
    "> P-085: For the customer data (df_customer), create new data by adding latitude and longitude coordinates for each postal code (postal_cd) using a geocode table (df_geocode). If a postal code has multiple coordinates, use the average latitude and longitude values. Display the top 10 rows to verify the results."
   ]
  },
  {
   "cell_type": "code",
   "execution_count": null,
   "metadata": {},
   "outputs": [],
   "source": []
  },
  {
   "cell_type": "markdown",
   "metadata": {},
   "source": [
    "---\n",
    "> P-086: Using the data created in P-085, combine it with the store data (df_store) based on the application store code (application_store_cd) to create a new dataset. Calculate the distance between the customer's address (latitude, longitude) and the store's address (latitude, longitude) for each application store and display the top 10 rows. You can use a library for distance calculation if necessary.\n",
    "\n",
    "$$\n",
    "\\mbox{緯度（ラジアン）}：\\phi \\\\\n",
    "\\mbox{経度（ラジアン）}：\\lambda \\\\\n",
    "\\mbox{距離}L = 6371 * \\arccos(\\sin \\phi_1 * \\sin \\phi_2\n",
    "+ \\cos \\phi_1 * \\cos \\phi_2 * \\cos(\\lambda_1 − \\lambda_2))\n",
    "$$"
   ]
  },
  {
   "cell_type": "code",
   "execution_count": null,
   "metadata": {},
   "outputs": [],
   "source": []
  },
  {
   "cell_type": "markdown",
   "metadata": {},
   "source": [
    "---\n",
    "> P-087: In the customer data (df_customer), there are cases where the same customer is registered at different stores under slightly different names or addresses. Create a new dataset by consolidating records where the customer name (customer_name) and postal code (postal_cd) are considered the same if they match exactly. In cases where there are discrepancies, prioritize the record with the higher total sales amount, or if sales amounts are equal, prioritize the record with the smaller customer ID."
   ]
  },
  {
   "cell_type": "code",
   "execution_count": null,
   "metadata": {},
   "outputs": [],
   "source": []
  },
  {
   "cell_type": "markdown",
   "metadata": {},
   "source": [
    "---\n",
    "> P-088: Using the data created in P-087, create a new dataset with consolidated customer data according to the following specifications:\n",
    "> - Retain only the customer ID (customer_id).\n",
    "> - For duplicate records, use the receipt number (receipt_no) from the previous extracted receipt record.\n",
    "> - Ensure the uniqueness of the customer ID in the new dataset."
   ]
  },
  {
   "cell_type": "code",
   "execution_count": null,
   "metadata": {},
   "outputs": [],
   "source": []
  },
  {
   "cell_type": "markdown",
   "metadata": {},
   "source": [
    "---\n",
    "> P-089: Split the receipt data (df_receipt) into training and test datasets for predictive modeling. Use an 80:20 ratio for the split."
   ]
  },
  {
   "cell_type": "code",
   "execution_count": null,
   "metadata": {},
   "outputs": [],
   "source": []
  },
  {
   "cell_type": "markdown",
   "metadata": {},
   "source": [
    "---\n",
    "> P-090: For the receipt details data (df_receipt), extract data from January 1, 2017, to October 31, 2019. Create three sets of monthly sequential sales data: 12 months for training, 6 months for testing, and 6 months for validation."
   ]
  },
  {
   "cell_type": "code",
   "execution_count": null,
   "metadata": {},
   "outputs": [],
   "source": []
  },
  {
   "cell_type": "markdown",
   "metadata": {},
   "source": [
    "---\n",
    "> P-091: For the customer data (df_customer), perform undersampling to ensure that the number of customers without sales records is equal to the number of customers with sales records."
   ]
  },
  {
   "cell_type": "code",
   "execution_count": null,
   "metadata": {},
   "outputs": [],
   "source": []
  },
  {
   "cell_type": "markdown",
   "metadata": {},
   "source": [
    "---\n",
    "> P-092: For the customer data (df_customer), normalize the gender code (gender_cd) into three categories: male, female, and unknown."
   ]
  },
  {
   "cell_type": "code",
   "execution_count": null,
   "metadata": {},
   "outputs": [],
   "source": []
  },
  {
   "cell_type": "markdown",
   "metadata": {},
   "source": [
    "---\n",
    "> P-093: For the product data (df_product), merge with the category data (df_category) to retain the category name while keeping the category code intact. Create a new product dataset with this combined information."
   ]
  },
  {
   "cell_type": "code",
   "execution_count": null,
   "metadata": {},
   "outputs": [],
   "source": []
  },
  {
   "cell_type": "markdown",
   "metadata": {},
   "source": [
    "---\n",
    "> P-094: Save the new product dataset created in P-093 with the category names included as a CSV file with the following specifications:\n",
    "> - File format: CSV (comma-separated values)\n",
    "> - Header: No\n",
    "> - Text encoding: UTF-8\n",
    "> - File output path: /data"
   ]
  },
  {
   "cell_type": "code",
   "execution_count": null,
   "metadata": {},
   "outputs": [],
   "source": []
  },
  {
   "cell_type": "markdown",
   "metadata": {},
   "source": [
    "---\n",
    "> P-095: Save the new product dataset created in P-093 with the category names included as a CSV file with the following specifications:\n",
    "> - File format: CSV (comma-separated values)\n",
    "> - Header: Yes\n",
    "> - Text encoding: CP932\n",
    "> - File output path: /data"
   ]
  },
  {
   "cell_type": "code",
   "execution_count": null,
   "metadata": {},
   "outputs": [],
   "source": []
  },
  {
   "cell_type": "markdown",
   "metadata": {},
   "source": [
    "---\n",
    "> P-096: Save the new product dataset created in P-093 with the category names included as a CSV file with the following specifications:\n",
    "> - File format: CSV (comma-separated values)\n",
    "> - Header: No\n",
    "> - Text encoding: UTF-8\n",
    "> - File output path: /data"
   ]
  },
  {
   "cell_type": "code",
   "execution_count": null,
   "metadata": {},
   "outputs": [],
   "source": []
  },
  {
   "cell_type": "markdown",
   "metadata": {},
   "source": [
    "---\n",
    "> P-097: Load the file created in P-094 and display 3 rows to confirm that the data is correctly imported. The file specifications are as follows:\n",
    "> - File format: CSV (comma-separated values)\n",
    "> - Header: Yes\n",
    "> - Text encoding: UTF-8"
   ]
  },
  {
   "cell_type": "code",
   "execution_count": null,
   "metadata": {},
   "outputs": [],
   "source": []
  },
  {
   "cell_type": "markdown",
   "metadata": {},
   "source": [
    "---\n",
    "> P-098: Load the file created in P-096 and display 3 rows to confirm that the data is correctly imported. The file specifications are as follows:\n",
    "> - File format: CSV (comma-separated values)\n",
    "> - Header: No\n",
    "> - Text encoding: UTF-8"
   ]
  },
  {
   "cell_type": "code",
   "execution_count": null,
   "metadata": {},
   "outputs": [],
   "source": []
  },
  {
   "cell_type": "markdown",
   "metadata": {},
   "source": [
    "---\n",
    "> P-099: Save the new product dataset created in P-093 with the category names included as a TSV file with the following specifications:\n",
    "> - File format: TSV (tab-separated values)\n",
    "> - Header: Yes\n",
    "> - Text encoding: UTF-8\n",
    "> -File output path: /data"
   ]
  },
  {
   "cell_type": "code",
   "execution_count": null,
   "metadata": {},
   "outputs": [],
   "source": []
  },
  {
   "cell_type": "markdown",
   "metadata": {},
   "source": [
    "---\n",
    "> P-100: Load the file created in P-099 with the following specifications, display 3 rows of data, and confirm that the data is correctly imported:\n",
    "> - File format: TSV (tab-separated values)\n",
    "> - Header: Yes\n",
    "> - Text encoding: UTF-8"
   ]
  },
  {
   "cell_type": "code",
   "execution_count": null,
   "metadata": {},
   "outputs": [],
   "source": []
  },
  {
   "cell_type": "markdown",
   "metadata": {},
   "source": [
    "## This concludes the 100 exercises. Well done!"
   ]
  },
  {
   "cell_type": "markdown",
   "metadata": {},
   "source": []
  }
 ],
 "metadata": {
  "kernelspec": {
   "display_name": "Python 3 (ipykernel)",
   "language": "python",
   "name": "python3"
  },
  "language_info": {
   "codemirror_mode": {
    "name": "ipython",
    "version": 3
   },
   "file_extension": ".py",
   "mimetype": "text/x-python",
   "name": "python",
   "nbconvert_exporter": "python",
   "pygments_lexer": "ipython3",
   "version": "3.9.19"
  }
 },
 "nbformat": 4,
 "nbformat_minor": 4
}
